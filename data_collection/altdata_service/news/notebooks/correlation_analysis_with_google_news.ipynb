{
 "cells": [
  {
   "cell_type": "markdown",
   "id": "agreed-missouri",
   "metadata": {},
   "source": [
    "# Correlation analysis between Google News articles and stock prices"
   ]
  },
  {
   "cell_type": "markdown",
   "id": "moved-marks",
   "metadata": {},
   "source": [
    "## Setup"
   ]
  },
  {
   "cell_type": "markdown",
   "id": "substantial-public",
   "metadata": {},
   "source": [
    "###### Load dependency libraries"
   ]
  },
  {
   "cell_type": "code",
   "execution_count": 1,
   "id": "natural-setup",
   "metadata": {},
   "outputs": [],
   "source": [
    "from pygooglenews import GoogleNews\n",
    "from bs4 import BeautifulSoup\n",
    "from langdetect import detect\n",
    "import numpy as np \n",
    "from datetime import datetime, timedelta\n",
    "import yfinance as yf\n",
    "import matplotlib.pyplot as plt\n",
    "from IPython.display import display, DisplayObject\n",
    "from textblob import TextBlob\n",
    "from vaderSentiment.vaderSentiment import SentimentIntensityAnalyzer\n",
    "import requests\n",
    "import pandas as pd\n",
    "import time, calendar\n",
    "import os"
   ]
  },
  {
   "cell_type": "markdown",
   "id": "informational-consultancy",
   "metadata": {},
   "source": [
    "###### Get interval-level stock price data"
   ]
  },
  {
   "cell_type": "code",
   "execution_count": 23,
   "id": "dried-military",
   "metadata": {},
   "outputs": [],
   "source": [
    "def get_stock_data_by_interval(symbol, start_datetime, end_datetime, interval='1m'):\n",
    "    # Interval argument examples : '1m', '1h', '1d', '5d', '1mo', '3mo', '6mo', '1y', '2y', '5y', '10y', 'ytd', 'max'\n",
    "    # Start and end datetime format example : '2000-01-01 12:34:00'\n",
    "    start_timestamp = calendar.timegm(time.strptime(start_datetime, '%Y-%m-%d %H:%M:%S')) - 86400\n",
    "    end_timestamp = calendar.timegm(time.strptime(end_datetime, '%Y-%m-%d %H:%M:%S')) + 86400\n",
    "    \n",
    "    url = f'https://query1.finance.yahoo.com/v8/finance/chart/{symbol}?interval={interval}&period1={start_timestamp}&period2={end_timestamp}'\n",
    "    result = requests.get(url)\n",
    "    \n",
    "    data = result.json()\n",
    "    body = data['chart']['result'][0]\n",
    "    price_data_body = body['indicators']['quote'][0]\n",
    "    \n",
    "    df = pd.DataFrame()\n",
    "    df['Datetime'] = body['timestamp']\n",
    "    df['Datetime'] = pd.to_datetime(df['Datetime'],unit='s')\n",
    "    df['high'] = price_data_body['high']\n",
    "    df['low'] = price_data_body['low']\n",
    "    df['volume'] = price_data_body['volume']\n",
    "    df['open'] = price_data_body['open']\n",
    "    df['close'] = price_data_body['close']\n",
    "    \n",
    "    return df\n",
    "\n",
    "# Function signature examples\n",
    "# Get minute-level stock price information within 10 minute timeframe\n",
    "# display(get_stock_data_by_interval('MRNA', '2021-02-09 14:29:00', '2021-02-09 14:41:00'))\n",
    "\n",
    "# Get hourly stock price information within 24h timeframe\n",
    "# display(get_stock_data_by_interval('MRNA', '2021-02-09 21:00:00', '2021-02-10 21:00:00', '1h'))"
   ]
  },
  {
   "cell_type": "markdown",
   "id": "oriented-quarter",
   "metadata": {},
   "source": [
    "###### Get combined average sentiment score between TextBlob and Vader"
   ]
  },
  {
   "cell_type": "code",
   "execution_count": 3,
   "id": "offensive-jumping",
   "metadata": {},
   "outputs": [],
   "source": [
    "# Sentiment score from TextBlob\n",
    "def get_textblob_sentiment(text):\n",
    "    analysis = TextBlob(text)\n",
    "    return analysis.sentiment.polarity\n",
    "\n",
    "# Sentiment score from Vader\n",
    "def get_vader_sentiment(text):\n",
    "    analyzer = SentimentIntensityAnalyzer()\n",
    "    vs = analyzer.polarity_scores(text)\n",
    "    return vs['compound']\n",
    "\n",
    "def get_combined_sentiment_score(text):\n",
    "    return (get_vader_sentiment(text) + get_textblob_sentiment(text)) / 2"
   ]
  },
  {
   "cell_type": "markdown",
   "id": "sonic-engine",
   "metadata": {},
   "source": [
    "###### Get articles about single stock for the last number of days"
   ]
  },
  {
   "cell_type": "code",
   "execution_count": 4,
   "id": "extra-theology",
   "metadata": {
    "scrolled": false
   },
   "outputs": [],
   "source": [
    "def remove_html_tags(html):\n",
    "    return BeautifulSoup(html).get_text()\n",
    "\n",
    "def get_news_dataframe(ticker, query, timeframe_in_days):\n",
    "    end_date = pd.to_datetime('today').date()\n",
    "    start_date = end_date - timedelta(days=timeframe_in_days)  \n",
    "    delta = timedelta(days=1)\n",
    "    \n",
    "    dates = []\n",
    "    \n",
    "    while start_date <= end_date:\n",
    "        dates.append(str(start_date))\n",
    "        start_date += delta\n",
    "        \n",
    "    dates = np.array(dates)\n",
    "    results = []\n",
    "    \n",
    "    gn = GoogleNews()\n",
    "    \n",
    "    for i in range(len(dates)-1):\n",
    "        results.append(gn.search(query, from_=dates[i], to_=dates[i+1]))\n",
    "        \n",
    "    \n",
    "    results = np.array(results)\n",
    "    data = []\n",
    "    \n",
    "    \n",
    "    for result in results:\n",
    "        for entry in result['entries']:\n",
    "            \n",
    "            data.append({\n",
    "                'title': entry['title'],\n",
    "                'summary': entry['summary'],\n",
    "                'published': entry['published'],\n",
    "                'link': entry['link'],\n",
    "                'source': entry['source']['title'],\n",
    "                'ticker': ticker\n",
    "            })\n",
    "    \n",
    "    news_df = pd.DataFrame(data)\n",
    "\n",
    "    news_df['summary'] = news_df['summary'].apply(lambda x : remove_html_tags(x))\n",
    "    news_df['sentiment_score'] = news_df['summary'].apply(lambda x : get_combined_sentiment_score(x))\n",
    "    news_df['published'] = news_df['published'].apply(lambda x : datetime.strptime(x, \"%a, %d %b %Y %H:%M:%S %Z\"))\n",
    "    news_df['language'] = news_df['summary'].apply(lambda x : detect(x))\n",
    "    \n",
    "    news_df = news_df.drop_duplicates(subset=['title', 'published', 'source'], keep='first')\n",
    "    \n",
    "    return news_df\n",
    "\n",
    "\n",
    "# # Function signature example\n",
    "# Get articles about MRNA stock for the last 20 days\n",
    "# get_news_dataframe(ticker='MRNA', query='MRNA AND Moderna', timeframe_in_days=20)"
   ]
  },
  {
   "cell_type": "markdown",
   "id": "measured-height",
   "metadata": {},
   "source": [
    "###### Get news dataframee about specific stocks we will be using throughout this correlation analysis notebook"
   ]
  },
  {
   "cell_type": "markdown",
   "id": "atomic-panama",
   "metadata": {},
   "source": [
    "**Stocks:**  \n",
    "1. MRNA (Moderna)\n",
    "2. PENN (Penn National Gaming)\n",
    "3. NVDA (Nvidia)\n",
    "4. PDD (Pinduoduo)\n",
    "5. AZO (AutoZone)\n",
    "6. ETSY (Etsy Inc)\n",
    "7. DOCU (DocuSign)\n",
    "8. VRTX (Vertex Pharmaceuticals)\n",
    "9. EDIT (Editas Medicine)"
   ]
  },
  {
   "cell_type": "code",
   "execution_count": 5,
   "id": "joint-convert",
   "metadata": {},
   "outputs": [],
   "source": [
    "mrna_news_df = get_news_dataframe(ticker='MRNA', query='MRNA AND Moderna', timeframe_in_days=30)\n",
    "penn_news_df = get_news_dataframe(ticker='PENN', query='PENN AND \"Penn National Gaming\"', timeframe_in_days=30)\n",
    "nvda_news_df = get_news_dataframe(ticker='NVDA', query='NVDA AND Nvidia', timeframe_in_days=30)\n",
    "pdd_news_df = get_news_dataframe(ticker='PDD', query='PDD AND Pinduoduo', timeframe_in_days=30)\n",
    "azo_news_df = get_news_dataframe(ticker='AZO', query='AZO AND AutoZone', timeframe_in_days=30)\n",
    "etsy_news_df = get_news_dataframe(ticker='ETSY', query='ETSY AND \"Etsy Inc\"', timeframe_in_days=30)\n",
    "docu_news_df = get_news_dataframe(ticker='DOCU', query='DOCU AND DocuSign', timeframe_in_days=30)\n",
    "vrtx_news_df = get_news_dataframe(ticker='VRTX', query='VRTX AND \"Vertex Pharmaceuticals\"', timeframe_in_days=30)\n",
    "edit_news_df = get_news_dataframe(ticker='EDIT', query='EDIT AND \"Editas Medicine\"', timeframe_in_days=30)"
   ]
  },
  {
   "cell_type": "code",
   "execution_count": 6,
   "id": "incorporated-coalition",
   "metadata": {},
   "outputs": [
    {
     "data": {
      "text/html": [
       "<div>\n",
       "<style scoped>\n",
       "    .dataframe tbody tr th:only-of-type {\n",
       "        vertical-align: middle;\n",
       "    }\n",
       "\n",
       "    .dataframe tbody tr th {\n",
       "        vertical-align: top;\n",
       "    }\n",
       "\n",
       "    .dataframe thead th {\n",
       "        text-align: right;\n",
       "    }\n",
       "</style>\n",
       "<table border=\"1\" class=\"dataframe\">\n",
       "  <thead>\n",
       "    <tr style=\"text-align: right;\">\n",
       "      <th></th>\n",
       "      <th>title</th>\n",
       "      <th>summary</th>\n",
       "      <th>published</th>\n",
       "      <th>link</th>\n",
       "      <th>source</th>\n",
       "      <th>ticker</th>\n",
       "      <th>sentiment_score</th>\n",
       "      <th>language</th>\n",
       "    </tr>\n",
       "  </thead>\n",
       "  <tbody>\n",
       "    <tr>\n",
       "      <th>0</th>\n",
       "      <td>This Is the Best News Yet for Moderna's COVID ...</td>\n",
       "      <td>This Is the Best News Yet for Moderna's COVID ...</td>\n",
       "      <td>2021-01-17 08:00:00</td>\n",
       "      <td>https://www.fool.com/investing/2021/01/17/this...</td>\n",
       "      <td>The Motley Fool</td>\n",
       "      <td>MRNA</td>\n",
       "      <td>0.559100</td>\n",
       "      <td>en</td>\n",
       "    </tr>\n",
       "    <tr>\n",
       "      <th>1</th>\n",
       "      <td>COVID Vaccines Open Door for Cancer Treatments...</td>\n",
       "      <td>COVID Vaccines Open Door for Cancer Treatments...</td>\n",
       "      <td>2021-01-17 08:00:00</td>\n",
       "      <td>https://www.voanews.com/science-health/covid-v...</td>\n",
       "      <td>Voice of America</td>\n",
       "      <td>MRNA</td>\n",
       "      <td>-0.329850</td>\n",
       "      <td>en</td>\n",
       "    </tr>\n",
       "    <tr>\n",
       "      <th>2</th>\n",
       "      <td>Swiss to get Moderna vaccine in tranches until...</td>\n",
       "      <td>Swiss to get Moderna vaccine in tranches until...</td>\n",
       "      <td>2021-01-17 08:00:00</td>\n",
       "      <td>https://finance.yahoo.com/news/swiss-moderna-v...</td>\n",
       "      <td>Yahoo Finance</td>\n",
       "      <td>MRNA</td>\n",
       "      <td>0.000000</td>\n",
       "      <td>en</td>\n",
       "    </tr>\n",
       "    <tr>\n",
       "      <th>3</th>\n",
       "      <td>The Pfizer vaccine may not be the best choice ...</td>\n",
       "      <td>The Pfizer vaccine may not be the best choice ...</td>\n",
       "      <td>2021-01-18 08:00:00</td>\n",
       "      <td>https://theconversation.com/the-pfizer-vaccine...</td>\n",
       "      <td>The Conversation AU</td>\n",
       "      <td>MRNA</td>\n",
       "      <td>0.003800</td>\n",
       "      <td>en</td>\n",
       "    </tr>\n",
       "    <tr>\n",
       "      <th>4</th>\n",
       "      <td>Delaying second COVID-19 vaccine doses will ma...</td>\n",
       "      <td>Delaying second COVID-19 vaccine doses will ma...</td>\n",
       "      <td>2021-01-17 08:00:00</td>\n",
       "      <td>https://www.marinij.com/2021/01/17/delaying-se...</td>\n",
       "      <td>Marin Independent Journal</td>\n",
       "      <td>MRNA</td>\n",
       "      <td>-0.195950</td>\n",
       "      <td>en</td>\n",
       "    </tr>\n",
       "    <tr>\n",
       "      <th>...</th>\n",
       "      <td>...</td>\n",
       "      <td>...</td>\n",
       "      <td>...</td>\n",
       "      <td>...</td>\n",
       "      <td>...</td>\n",
       "      <td>...</td>\n",
       "      <td>...</td>\n",
       "      <td>...</td>\n",
       "    </tr>\n",
       "    <tr>\n",
       "      <th>2102</th>\n",
       "      <td>UPDATE: City, county schools closed Tuesday - ...</td>\n",
       "      <td>UPDATE: City, county schools closed Tuesday  Y...</td>\n",
       "      <td>2021-02-15 23:17:00</td>\n",
       "      <td>https://news.yahoo.com/city-county-schools-clo...</td>\n",
       "      <td>Yahoo News</td>\n",
       "      <td>MRNA</td>\n",
       "      <td>-0.050000</td>\n",
       "      <td>en</td>\n",
       "    </tr>\n",
       "    <tr>\n",
       "      <th>2103</th>\n",
       "      <td>Scrip Asks…What Does 2021 Hold For Biopharma? ...</td>\n",
       "      <td>Scrip Asks…What Does 2021 Hold For Biopharma? ...</td>\n",
       "      <td>2021-02-15 18:57:05</td>\n",
       "      <td>https://scrip.pharmaintelligence.informa.com/S...</td>\n",
       "      <td>Scrip</td>\n",
       "      <td>MRNA</td>\n",
       "      <td>0.000000</td>\n",
       "      <td>en</td>\n",
       "    </tr>\n",
       "    <tr>\n",
       "      <th>2104</th>\n",
       "      <td>Florida Emergency Management Director Jared Mo...</td>\n",
       "      <td>Florida Emergency Management Director Jared Mo...</td>\n",
       "      <td>2021-02-16 00:44:37</td>\n",
       "      <td>https://news.yahoo.com/florida-emergency-manag...</td>\n",
       "      <td>Yahoo News</td>\n",
       "      <td>MRNA</td>\n",
       "      <td>-0.268678</td>\n",
       "      <td>en</td>\n",
       "    </tr>\n",
       "    <tr>\n",
       "      <th>2105</th>\n",
       "      <td>France fines Google 1.1 million euros over hot...</td>\n",
       "      <td>France fines Google 1.1 million euros over hot...</td>\n",
       "      <td>2021-02-15 09:48:00</td>\n",
       "      <td>https://news.yahoo.com/france-fines-google-1-1...</td>\n",
       "      <td>Yahoo News</td>\n",
       "      <td>MRNA</td>\n",
       "      <td>0.000000</td>\n",
       "      <td>en</td>\n",
       "    </tr>\n",
       "    <tr>\n",
       "      <th>2106</th>\n",
       "      <td>MRNA Vaccine Market 2020 Comprehensive Analysi...</td>\n",
       "      <td>MRNA Vaccine Market 2020 Comprehensive Analysi...</td>\n",
       "      <td>2021-02-15 13:01:43</td>\n",
       "      <td>https://murphyshockeylaw.net/uncategorized/231...</td>\n",
       "      <td>Murphy's Hockey Law</td>\n",
       "      <td>MRNA</td>\n",
       "      <td>0.278700</td>\n",
       "      <td>en</td>\n",
       "    </tr>\n",
       "  </tbody>\n",
       "</table>\n",
       "<p>2105 rows × 8 columns</p>\n",
       "</div>"
      ],
      "text/plain": [
       "                                                  title  \\\n",
       "0     This Is the Best News Yet for Moderna's COVID ...   \n",
       "1     COVID Vaccines Open Door for Cancer Treatments...   \n",
       "2     Swiss to get Moderna vaccine in tranches until...   \n",
       "3     The Pfizer vaccine may not be the best choice ...   \n",
       "4     Delaying second COVID-19 vaccine doses will ma...   \n",
       "...                                                 ...   \n",
       "2102  UPDATE: City, county schools closed Tuesday - ...   \n",
       "2103  Scrip Asks…What Does 2021 Hold For Biopharma? ...   \n",
       "2104  Florida Emergency Management Director Jared Mo...   \n",
       "2105  France fines Google 1.1 million euros over hot...   \n",
       "2106  MRNA Vaccine Market 2020 Comprehensive Analysi...   \n",
       "\n",
       "                                                summary           published  \\\n",
       "0     This Is the Best News Yet for Moderna's COVID ... 2021-01-17 08:00:00   \n",
       "1     COVID Vaccines Open Door for Cancer Treatments... 2021-01-17 08:00:00   \n",
       "2     Swiss to get Moderna vaccine in tranches until... 2021-01-17 08:00:00   \n",
       "3     The Pfizer vaccine may not be the best choice ... 2021-01-18 08:00:00   \n",
       "4     Delaying second COVID-19 vaccine doses will ma... 2021-01-17 08:00:00   \n",
       "...                                                 ...                 ...   \n",
       "2102  UPDATE: City, county schools closed Tuesday  Y... 2021-02-15 23:17:00   \n",
       "2103  Scrip Asks…What Does 2021 Hold For Biopharma? ... 2021-02-15 18:57:05   \n",
       "2104  Florida Emergency Management Director Jared Mo... 2021-02-16 00:44:37   \n",
       "2105  France fines Google 1.1 million euros over hot... 2021-02-15 09:48:00   \n",
       "2106  MRNA Vaccine Market 2020 Comprehensive Analysi... 2021-02-15 13:01:43   \n",
       "\n",
       "                                                   link  \\\n",
       "0     https://www.fool.com/investing/2021/01/17/this...   \n",
       "1     https://www.voanews.com/science-health/covid-v...   \n",
       "2     https://finance.yahoo.com/news/swiss-moderna-v...   \n",
       "3     https://theconversation.com/the-pfizer-vaccine...   \n",
       "4     https://www.marinij.com/2021/01/17/delaying-se...   \n",
       "...                                                 ...   \n",
       "2102  https://news.yahoo.com/city-county-schools-clo...   \n",
       "2103  https://scrip.pharmaintelligence.informa.com/S...   \n",
       "2104  https://news.yahoo.com/florida-emergency-manag...   \n",
       "2105  https://news.yahoo.com/france-fines-google-1-1...   \n",
       "2106  https://murphyshockeylaw.net/uncategorized/231...   \n",
       "\n",
       "                         source ticker  sentiment_score language  \n",
       "0               The Motley Fool   MRNA         0.559100       en  \n",
       "1              Voice of America   MRNA        -0.329850       en  \n",
       "2                 Yahoo Finance   MRNA         0.000000       en  \n",
       "3           The Conversation AU   MRNA         0.003800       en  \n",
       "4     Marin Independent Journal   MRNA        -0.195950       en  \n",
       "...                         ...    ...              ...      ...  \n",
       "2102                 Yahoo News   MRNA        -0.050000       en  \n",
       "2103                      Scrip   MRNA         0.000000       en  \n",
       "2104                 Yahoo News   MRNA        -0.268678       en  \n",
       "2105                 Yahoo News   MRNA         0.000000       en  \n",
       "2106        Murphy's Hockey Law   MRNA         0.278700       en  \n",
       "\n",
       "[2105 rows x 8 columns]"
      ]
     },
     "execution_count": 6,
     "metadata": {},
     "output_type": "execute_result"
    }
   ],
   "source": [
    "mrna_news_df"
   ]
  },
  {
   "cell_type": "code",
   "execution_count": 7,
   "id": "introductory-torture",
   "metadata": {},
   "outputs": [],
   "source": [
    "news_df_list = [\n",
    "    mrna_news_df,\n",
    "    penn_news_df,\n",
    "    nvda_news_df,\n",
    "    pdd_news_df,\n",
    "    azo_news_df,\n",
    "    etsy_news_df,\n",
    "    docu_news_df,\n",
    "    vrtx_news_df,\n",
    "    edit_news_df\n",
    "]"
   ]
  },
  {
   "cell_type": "markdown",
   "id": "expected-chapel",
   "metadata": {},
   "source": [
    "## 1. Correlation between number of articles (per day) and stock price move (close - open)"
   ]
  },
  {
   "cell_type": "markdown",
   "id": "fallen-minute",
   "metadata": {},
   "source": []
  },
  {
   "cell_type": "code",
   "execution_count": 52,
   "id": "departmental-grade",
   "metadata": {
    "scrolled": false
   },
   "outputs": [
    {
     "data": {
      "text/plain": [
       "<AxesSubplot:xlabel='source', ylabel='price_move'>"
      ]
     },
     "metadata": {},
     "output_type": "display_data"
    },
    {
     "data": {
      "text/plain": [
       "<AxesSubplot:xlabel='source', ylabel='price_move'>"
      ]
     },
     "metadata": {},
     "output_type": "display_data"
    },
    {
     "data": {
      "text/plain": [
       "<AxesSubplot:xlabel='source', ylabel='price_move'>"
      ]
     },
     "metadata": {},
     "output_type": "display_data"
    },
    {
     "data": {
      "text/plain": [
       "<AxesSubplot:xlabel='source', ylabel='price_move'>"
      ]
     },
     "metadata": {},
     "output_type": "display_data"
    },
    {
     "data": {
      "text/plain": [
       "<AxesSubplot:xlabel='source', ylabel='price_move'>"
      ]
     },
     "metadata": {},
     "output_type": "display_data"
    },
    {
     "data": {
      "text/plain": [
       "<AxesSubplot:xlabel='source', ylabel='price_move'>"
      ]
     },
     "metadata": {},
     "output_type": "display_data"
    },
    {
     "data": {
      "text/plain": [
       "<AxesSubplot:xlabel='source', ylabel='price_move'>"
      ]
     },
     "metadata": {},
     "output_type": "display_data"
    },
    {
     "data": {
      "text/plain": [
       "<AxesSubplot:xlabel='source', ylabel='price_move'>"
      ]
     },
     "metadata": {},
     "output_type": "display_data"
    },
    {
     "data": {
      "text/plain": [
       "<AxesSubplot:xlabel='source', ylabel='price_move'>"
      ]
     },
     "metadata": {},
     "output_type": "display_data"
    },
    {
     "data": {
      "image/png": "[encoded data removed]",
      "text/plain": [
       "<Figure size 432x288 with 1 Axes>"
      ]
     },
     "metadata": {
      "needs_background": "light"
     },
     "output_type": "display_data"
    },
    {
     "data": {
      "image/png": "[encoded data removed]",
      "text/plain": [
       "<Figure size 432x288 with 1 Axes>"
      ]
     },
     "metadata": {
      "needs_background": "light"
     },
     "output_type": "display_data"
    },
    {
     "data": {
      "image/png": "[encoded data removed]",
      "text/plain": [
       "<Figure size 432x288 with 1 Axes>"
      ]
     },
     "metadata": {
      "needs_background": "light"
     },
     "output_type": "display_data"
    },
    {
     "data": {
      "image/png": "[encoded data removed]",
      "text/plain": [
       "<Figure size 432x288 with 1 Axes>"
      ]
     },
     "metadata": {
      "needs_background": "light"
     },
     "output_type": "display_data"
    },
    {
     "data": {
      "image/png": "[encoded data removed]",
      "text/plain": [
       "<Figure size 432x288 with 1 Axes>"
      ]
     },
     "metadata": {
      "needs_background": "light"
     },
     "output_type": "display_data"
    },
    {
     "data": {
      "image/png": "[encoded data removed]",
      "text/plain": [
       "<Figure size 432x288 with 1 Axes>"
      ]
     },
     "metadata": {
      "needs_background": "light"
     },
     "output_type": "display_data"
    },
    {
     "data": {
      "image/png": "[encoded data removed]",
      "text/plain": [
       "<Figure size 432x288 with 1 Axes>"
      ]
     },
     "metadata": {
      "needs_background": "light"
     },
     "output_type": "display_data"
    },
    {
     "data": {
      "image/png": "[encoded data removed]",
      "text/plain": [
       "<Figure size 432x288 with 1 Axes>"
      ]
     },
     "metadata": {
      "needs_background": "light"
     },
     "output_type": "display_data"
    },
    {
     "data": {
      "image/png": "[encoded data removed]",
      "text/plain": [
       "<Figure size 432x288 with 1 Axes>"
      ]
     },
     "metadata": {
      "needs_background": "light"
     },
     "output_type": "display_data"
    }
   ],
   "source": [
    "for news_df in news_df_list:\n",
    "    df = pd.DataFrame()\n",
    "    df['ticker'] = news_df['ticker']\n",
    "    # df['sentiment_score'] = news_df['sentiment_score']\n",
    "    df['date'] = news_df['published'].dt.normalize()\n",
    "    df['source'] = news_df['source']\n",
    "    \n",
    "    df = df.groupby(['date', 'ticker']).agg('count').reset_index().set_index('date')\n",
    "    start_date = df.index[0].strftime(\"%Y-%m-%d %H:%M:%S\")\n",
    "    end_date = df.index[-1].strftime(\"%Y-%m-%d %H:%M:%S\")\n",
    "    \n",
    "    price_df = get_stock_data_by_interval(symbol, start_date, end_date, '1d')\n",
    "    price_df['Datetime'] = price_df['Datetime'].dt.normalize()\n",
    "    \n",
    "    price_df = price_df.set_index('Datetime')\n",
    "    joined_df = df.join(price_df)\n",
    "    \n",
    "    joined_df = joined_df.loc[joined_df['high'].notnull()]\n",
    "    joined_df['price_move'] = joined_df['close'] - joined_df['open']\n",
    "    display(joined_df.plot.scatter(x='source', y='price_move'))"
   ]
  }
 ],
 "metadata": {
  "kernelspec": {
   "display_name": "Python 3",
   "language": "python",
   "name": "python3"
  },
  "language_info": {
   "codemirror_mode": {
    "name": "ipython",
    "version": 3
   },
   "file_extension": ".py",
   "mimetype": "text/x-python",
   "name": "python",
   "nbconvert_exporter": "python",
   "pygments_lexer": "ipython3",
   "version": "3.8.3"
  }
 },
 "nbformat": 4,
 "nbformat_minor": 5
}
